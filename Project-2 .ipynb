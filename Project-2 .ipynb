{
 "cells": [
  {
   "cell_type": "markdown",
   "metadata": {
    "tags": []
   },
   "source": [
    "# Wheelchair Control\n",
    "\n",
    "![](images/wheelchair.jpg)"
   ]
  },
  {
   "cell_type": "markdown",
   "metadata": {},
   "source": [
    "### Python Dependencies"
   ]
  },
  {
   "cell_type": "code",
   "execution_count": null,
   "metadata": {},
   "outputs": [],
   "source": [
    "from numpy import *\n",
    "from numpy.linalg import *\n",
    "\n",
    "from scipy.linalg import *\n",
    "from scipy.integrate import *\n",
    "from scipy.signal import *\n",
    "\n",
    "from matplotlib.pyplot import *"
   ]
  },
  {
   "cell_type": "markdown",
   "metadata": {
    "tags": []
   },
   "source": [
    "Step 1 - Wheelchair Planar Model\n",
    "================================"
   ]
  },
  {
   "cell_type": "markdown",
   "metadata": {
    "tags": []
   },
   "source": [
    "### Introduction"
   ]
  },
  {
   "cell_type": "markdown",
   "metadata": {
    "tags": []
   },
   "source": [
    "We consider a simple model of a wheelchair evolving in the plane. It is mainly made of\n",
    "\n",
    "  - A frame ; from above, its most visible component is the seat. We assume that it is a square,\n",
    "\n",
    "  - Two fixed wheels (their orientation with respect to the frame does not change). \n",
    "    They are parallel and located at opposite ends of the seat. \n",
    "    \n",
    "We assume that the seat backrest is on top of the wheels common axis.\n",
    "\n",
    "\n",
    "Let $(0, e_x, e_y)$ be a direct orthonormal frame of the plane. We denote \n",
    "\n",
    "  - $(x, y)$ the coordinates of the wheel axis center in the orthonormal and \n",
    "  - $\\theta$ the angle of the wheels direction with respect to vector $e_x$ ; with $\\theta = 0$ when the front of the wheelchait faces the right ($e_x$) and $\\theta = \\pi/2$ when it faces upwards ($e_y$).\n",
    "\n",
    "  - $\\phi_l$ and $\\phi_r$ the rotation angles of the left and right wheel respectively ; by convention, when these angles increase, the wheelchair moves forward."
   ]
  },
  {
   "cell_type": "markdown",
   "metadata": {
    "tags": []
   },
   "source": [
    "### Parameter Definition"
   ]
  },
  {
   "cell_type": "markdown",
   "metadata": {
    "tags": []
   },
   "source": [
    "From now on, we assume that the seat side length is $L = 50 \\mbox{ cm}$ and the wheel radius is $R_w = 30 \\mbox{ cm}$.\n",
    "\n",
    "🧩 Define the corresponding Python variables `L` and `Rw` (express every length in meters, and more generally in the sequel, always use the [international standard of units](https://en.wikipedia.org/wiki/SI_derived_unit)) for numerical values. "
   ]
  },
  {
   "cell_type": "code",
   "execution_count": null,
   "metadata": {},
   "outputs": [],
   "source": [
    "# 🔓\n",
    "L = 50 / 100\n",
    "Rw = 30 / 100"
   ]
  },
  {
   "cell_type": "markdown",
   "metadata": {},
   "source": [
    "### Graphical Representation\n",
    "\n",
    "🧩 Implement a function `draw_wheelchair` with arguments `x`, `y` and `theta` that draws a simple geometric model of the wheelchair (with seat and fixed wheels) in the plane (top view) for arbitrary values of $(x, y)$ and $\\theta$. \n",
    "\n",
    "🗝️ **Hint.** Use the function `plot` of `matplotlib.pyplot`."
   ]
  },
  {
   "cell_type": "code",
   "execution_count": null,
   "metadata": {},
   "outputs": [],
   "source": [
    "# 🔓\n",
    "def draw_wheelchair(x, y, theta):\n",
    "    translation = array([[x], [y]])\n",
    "    rotation = array([\n",
    "        [cos(theta), -sin(theta)], \n",
    "        [sin(theta),  cos(theta)]\n",
    "    ])\n",
    "\n",
    "    # Seat\n",
    "    corners = [[0, -L/2], [L, -L/2], [L, +L/2], [0, L/2]]\n",
    "    corners += [corners[0]]\n",
    "    corners = array(corners).T\n",
    "    corners = rotation @ corners + translation\n",
    "    xc = corners[0]\n",
    "    yc = corners[1]\n",
    "    fill(xc, yc, color=\"#868e96\", zorder=10)\n",
    "    \n",
    "    # Fixed Wheels\n",
    "    wheel_left_xy_start = rotation @ [[-Rw], [-L/2]] + translation \n",
    "    wheel_left_xy_end = rotation @ [[Rw], [-L/2]] + translation\n",
    "    plot([wheel_left_xy_start[0], wheel_left_xy_end[0]], [wheel_left_xy_start[1], wheel_left_xy_end[1]], color=\"black\",linewidth=5, zorder=20)\n",
    "\n",
    "    wheel_right_xy_start = rotation @ [[-Rw], [+L/2]] + translation\n",
    "    wheel_right_xy_end = rotation @ [[Rw], [L/2]] + translation\n",
    "    plot([wheel_right_xy_start[0], wheel_right_xy_end[0]], [wheel_right_xy_start[1], wheel_right_xy_end[1]], color=\"black\", linewidth=5, zorder=20)\n",
    "    "
   ]
  },
  {
   "cell_type": "markdown",
   "metadata": {},
   "source": [
    "🧩 Represent the wheelchair when $(x, y, \\theta) = (0, 0, 0), (2, 2, \\pi/2), (0, 4, \\pi), (-2, 2, 3\\pi/2)$.\n",
    "\n",
    "🗝️ **Hint.** Use the following `draw_arena` function beforehand."
   ]
  },
  {
   "cell_type": "code",
   "execution_count": null,
   "metadata": {},
   "outputs": [],
   "source": [
    "def draw_arena(xmin, xmax, ymin, ymax):\n",
    "    wh_ratio = (xmax - xmin) / (ymax - ymin)\n",
    "    figsize = fig_width, fig_height = 16, 16 / wh_ratio\n",
    "    figure(figsize=figsize)\n",
    "    axes = gca()\n",
    "    axes.axis([xmin, xmax, ymin, ymax])\n",
    "    axes.set_aspect(1)\n",
    "    xticks(arange(xmin, xmax+1, 1))\n",
    "    yticks(arange(ymin, ymax+1, 1))\n",
    "    grid(True)"
   ]
  },
  {
   "cell_type": "code",
   "execution_count": null,
   "metadata": {},
   "outputs": [],
   "source": [
    "# 🔓\n",
    "draw_arena(-5, 5, -1, 5)\n",
    "draw_wheelchair(0, 0, 0)\n",
    "draw_wheelchair(2, 2, pi/2)\n",
    "draw_wheelchair(0, 4, pi)\n",
    "draw_wheelchair(-2, 2, 3*pi/2)"
   ]
  },
  {
   "cell_type": "markdown",
   "metadata": {},
   "source": [
    "### Kinematic Modeling\n",
    "\n",
    "We assume that we can control the wheels angular velocities $\\omega_l = \\dot{\\phi}_l$ and $\\omega_r = \\dot{\\phi}_r$ (this is a *kinematic* model of the wheelchair).\n",
    "We also assume that the wheelchair fixed wheels roll without slipping. \n",
    "\n",
    "🧩 Establish the differential equations that relate $\\dot{x}$,\n",
    "$\\dot{y}$ and $\\dot{\\theta}$ with $\\omega_l$ and $\\omega_r$."
   ]
  },
  {
   "cell_type": "markdown",
   "metadata": {},
   "source": [
    "🔓\n",
    "$$\n",
    "\\begin{array}{rcl}\n",
    "\\dot{x} &=& R_w  \\frac{\\omega_l + \\omega_r}{2} \\cos \\theta \\\\\n",
    "\\dot{y} &=& R_w  \\frac{\\omega_l + \\omega_r}{2} \\sin \\theta \\\\\n",
    "\\dot{\\theta} &=& R_w  \\frac{\\omega_r - \\omega_l}{L} \\\\\n",
    "\\end{array}\n",
    "$$"
   ]
  },
  {
   "cell_type": "markdown",
   "metadata": {},
   "source": [
    "### Analysis\n",
    "\n",
    "🧩 Show that if $\\omega_l$ and $\\omega_r$ are continuously differentiable functions of $(x, y, \\theta)$ (which includes the case of constant inputs), this system is well-posed."
   ]
  },
  {
   "cell_type": "markdown",
   "metadata": {},
   "source": [
    "🔓 The vector field is continuously differentiable as a composition of continuously differentiable functions, thus the IVP is well-posed."
   ]
  },
  {
   "cell_type": "markdown",
   "metadata": {},
   "source": [
    "🧩 Show that if $\\omega_l$ and $\\omega_r$ are constants, the maximal solution associated to any initial state is global. Is is still true of $\\omega_l$ and $\\omega_r$ are arbitrary continuously differentiable functions of $(x, y, \\theta)$ ?"
   ]
  },
  {
   "cell_type": "markdown",
   "metadata": {},
   "source": [
    "🔓 When the inputs are constant, it's pretty easy to prove that the derivatives of $x$, $y$ and $\\theta$ with respect to $t$ are uniformly bounded ; thus $x$, $y$ and $\\theta$ are bounded on any bounded time interval and therefore no finite-time blowup may happen: the maximal solution is global.\n",
    "\n",
    "The situation is different with state-dependent inputs; for example with $\\omega_r = - \\omega_l = 0.5 (L/R_w)  \\theta^2$, we end up with $\\dot{\\theta}(t) = \\theta(t)^2$ which has a finite-time blowup for some initial values of $\\theta$. Thus, the maximal solution may not be global."
   ]
  },
  {
   "cell_type": "markdown",
   "metadata": {},
   "source": [
    "### Vector Field\n",
    "\n",
    "In the sequel, `omega` is a function that computes the input vector $\\omega := (\\omega_l, \\omega_r)$ given the time $t$ and $(x, y, \\theta)$ (thus, it may depend on the time and/or on the system state if needed). For example:"
   ]
  },
  {
   "cell_type": "code",
   "execution_count": null,
   "metadata": {},
   "outputs": [],
   "source": [
    "def omega(t, xytheta):\n",
    "    omega_l = (1 - L/4) * pi / Rw\n",
    "    omega_r = (1 + L/4) * pi / Rw\n",
    "    return array([omega_l, omega_r])"
   ]
  },
  {
   "cell_type": "markdown",
   "metadata": {},
   "source": [
    "🧩 Implement a function `fun(t, xytheta)` that computes $(\\dot{x}, \\dot{y}, \\dot{\\theta})$ given the time $t$ and $(x,y,\\theta)$ (and implicitly the inputs $\\omega$ computed by the function `omega`)."
   ]
  },
  {
   "cell_type": "code",
   "execution_count": null,
   "metadata": {},
   "outputs": [],
   "source": [
    "# 🔓\n",
    "def fun(t, xytheta):\n",
    "    x, y, theta = xytheta\n",
    "    omega_l, omega_r = omega(t, xytheta)\n",
    "    dx = Rw * 0.5 * (omega_l + omega_r) * cos(theta)\n",
    "    dy = Rw * 0.5 * (omega_l + omega_r) * sin(theta)\n",
    "    dtheta = Rw * (omega_r - omega_l) / L\n",
    "    return array([dx, dy, dtheta])"
   ]
  },
  {
   "cell_type": "markdown",
   "metadata": {},
   "source": [
    "### Simulation Setup\n",
    "\n",
    "🧩 Simulate the wheelchair dynamics for 4 seconds when $(x_0, y_0, \\theta_0)(t=0) = (0.0, 0.0, 0.0)$,\n",
    "and the wheels velocities are the constants $\\omega_l = (1 - L/4)  \\pi / R \\mbox{ rad/s}$ and $\\omega_r = (1 + L/4)  \\pi / R_w \\mbox{ rad/s}$.\n",
    "(Compute the dense outputs.)\n",
    "   "
   ]
  },
  {
   "cell_type": "code",
   "execution_count": null,
   "metadata": {},
   "outputs": [],
   "source": [
    "# 🔓\n",
    "r = solve_ivp(fun=fun, t_span =(0.0, 4.0), y0=[0.0, 0.0, 0.0], dense_output=True)"
   ]
  },
  {
   "cell_type": "markdown",
   "metadata": {},
   "source": [
    "🧩 Use the simulation results to draw the graphs of $x(t)$, $y(t)$ and $\\theta(t)$."
   ]
  },
  {
   "cell_type": "code",
   "execution_count": null,
   "metadata": {},
   "outputs": [],
   "source": [
    "# 🔓\n",
    "t = linspace(0.0, 4.0, 1000)\n",
    "x, y, theta = r[\"sol\"](t)\n",
    "fig=figure(figsize=(15, 15))\n",
    "ax1, ax2 = fig.subplots(2, 1, sharex=True)\n",
    "ax1.grid(True)\n",
    "ax1.plot(t, x, label=\"$x(t)$\")\n",
    "ax1.plot(t, y, label=\"$y(t)$\")\n",
    "ax1.legend()\n",
    "ax2.grid(True)\n",
    "ax2.plot(t, theta, label=r\"$\\theta(t)$\", color=\"C2\")\n",
    "ax2.legend()\n",
    "xlabel(\"time\")\n",
    "pass"
   ]
  },
  {
   "cell_type": "markdown",
   "metadata": {},
   "source": [
    "🧩 Use the simulation results to display the robot location every 0.5 second."
   ]
  },
  {
   "cell_type": "code",
   "execution_count": null,
   "metadata": {},
   "outputs": [],
   "source": [
    "# 🔓\n",
    "t = linspace(0.0, 4.0, 4*2+1)\n",
    "sol_t = r[\"sol\"](t)\n",
    "draw_arena(-4, 4, -1, 5)\n",
    "for x, y, theta in sol_t.T:\n",
    "    draw_wheelchair(x, y, theta)"
   ]
  },
  {
   "cell_type": "markdown",
   "metadata": {},
   "source": [
    "🧩 What should be the analytical expression of $x(t)$, $y(t)$ and $\\theta(t)$? "
   ]
  },
  {
   "cell_type": "markdown",
   "metadata": {},
   "source": [
    "$\\theta(t) = 2 \\pi / 4.0$, $x(t) = 2\\sin(2\\pi t / 4)$ and $y(t) = -2 \\cos(2\\pi t / 4)+2$."
   ]
  },
  {
   "cell_type": "markdown",
   "metadata": {},
   "source": [
    "🧩 Do you experimental results match the theoretical results ? Draw the curves of the simulation error at time $t$ for $x$, $y$ and $\\theta$."
   ]
  },
  {
   "cell_type": "code",
   "execution_count": null,
   "metadata": {
    "scrolled": true
   },
   "outputs": [],
   "source": [
    "t = linspace(0.0, 4.0, 1000)\n",
    "x_t, y_t, theta_t = r[\"sol\"](t)\n",
    "fig=figure(figsize=(15, 15))\n",
    "ax1, ax2 = fig.subplots(2, 1, sharex=True)\n",
    "ax1.grid(True)\n",
    "ax1.plot(t , x_t - 2*sin(2*pi*t/4), label=\"$x(t)$ error\")\n",
    "ax1.plot(t , y_t + 2*cos(2*pi*t/4) - 2, label=\"$y(t)$ error\")\n",
    "ax1.legend()\n",
    "ax2.grid(True)\n",
    "ax2.plot(t, theta_t - 2*pi*t / 4.0, label=r\"$\\theta(t)$ error\")\n",
    "ax2.legend()\n",
    "xlabel(\"time\")\n",
    "pass"
   ]
  },
  {
   "cell_type": "markdown",
   "metadata": {},
   "source": [
    "🧩 If needed, adjust the simulation parameters until this error is uniformly less than $2 \\times 10^{-5}$ for every component of $(x, y, \\theta)$."
   ]
  },
  {
   "cell_type": "code",
   "execution_count": null,
   "metadata": {},
   "outputs": [],
   "source": [
    "r = solve_ivp(\n",
    "    fun=fun, \n",
    "    t_span=(0.0, 4.0), \n",
    "    y0=[0.0, 0.0, 0.0], \n",
    "    rtol=1e-6, \n",
    "    atol=1e-12, \n",
    "    dense_output=True\n",
    ")\n",
    "t = linspace(0.0, 4.0, 1000)\n",
    "x_t, y_t, theta_t = r[\"sol\"](t)\n",
    "fig=figure(figsize=(15, 15))\n",
    "ax1, ax2 = fig.subplots(2, 1, sharex=True)\n",
    "ax1.grid(True)\n",
    "ax1.plot(t , x_t - 2*sin(2*pi*t/4), label=\"$x(t)$ error\")\n",
    "ax1.plot(t , y_t + 2*cos(2*pi*t/4) - 2, label=\"$y(t)$ error\")\n",
    "ax1.legend()\n",
    "ax2.grid(True)\n",
    "ax2.plot(t, theta_t - 2*pi*t / 4.0, label=r\"$\\theta(t)$ error\")\n",
    "ax2.legend()\n",
    "xlabel(\"time\")\n",
    "pass"
   ]
  },
  {
   "cell_type": "markdown",
   "metadata": {},
   "source": [
    "Step 2 - Control Implementation\n",
    "==============================="
   ]
  },
  {
   "cell_type": "markdown",
   "metadata": {},
   "source": [
    "Time dependent inputs\n",
    "---------------------"
   ]
  },
  {
   "cell_type": "markdown",
   "metadata": {},
   "source": [
    "We are going to simulate the case of the chariot controlled by time-dependent angular velocities $\\omega_l$ and $\\omega_r$. \n",
    "We want a simulation lasting 5 seconds with the following inputs:\n",
    "$$\n",
    "    \\omega_l(t) = \\left\\{\n",
    "       \\begin{array}{rl}\n",
    "           (1 - L/4) \\pi / R_w & \\mbox{when $t \\leq 1s$ or $t \\geq 3$,} \\\\\n",
    "           (1 + L/4) \\pi / R_w & \\mbox{otherwise.}\n",
    "       \\end{array}\n",
    "    \\right.\n",
    "$$\n",
    "and\n",
    "$$\n",
    "    \\omega_r(t) = \\left\\{\n",
    "       \\begin{array}{rl}\n",
    "           (1 + L/4) \\pi / R_w & \\mbox{when $t \\leq 1s$ or $t \\geq 3$,} \\\\\n",
    "           (1 - L/4) \\pi / R_w & \\mbox{otherwise.}\n",
    "       \\end{array}\n",
    "    \\right.\n",
    "$$"
   ]
  },
  {
   "cell_type": "markdown",
   "metadata": {
    "tags": []
   },
   "source": [
    "##### 🧩 Provide the new definition of `omega`"
   ]
  },
  {
   "cell_type": "code",
   "execution_count": null,
   "metadata": {},
   "outputs": [],
   "source": [
    "def omega(t, xytheta):\n",
    "    if t <= 1 or t>= 3 : \n",
    "        omega_l = (1 - L/4) * pi / Rw\n",
    "        omega_r = (1 + L/4) * pi / Rw\n",
    "    else : \n",
    "        omega_l = (1 + L/4) * pi / Rw\n",
    "        omega_r = (1 - L/4) * pi / Rw\n",
    "    return array([omega_l, omega_r])"
   ]
  },
  {
   "cell_type": "markdown",
   "metadata": {
    "tags": []
   },
   "source": [
    "##### 🧩 Make a simulation of 4s of the robot with the previous input. Use the `rtol` and `atol` that used to guarantee a precision of $2 \\times 10^{-5}$ and by using the `dense_output` option to evaluate the solution at timesteps that will be defined later.\n",
    "\n",
    "🗝️ **Hint.** It is not necessary to define again the function `fun`. If the previous cell has been correctly validated, `fun` will use the new definition of `omega`. "
   ]
  },
  {
   "cell_type": "code",
   "execution_count": null,
   "metadata": {},
   "outputs": [],
   "source": [
    "r = solve_ivp(\n",
    "    fun=fun, \n",
    "    t_span=(0.0, 4.0), \n",
    "    y0=[0.0, 0.0, 0.0], \n",
    "    rtol=1e-6, \n",
    "    atol=1e-12, \n",
    "    dense_output=True\n",
    ")\n",
    "\n",
    "t = linspace(0.0, 4.0, 1000)\n",
    "x, y, theta = r[\"sol\"](t)\n",
    "fig=figure(figsize=(15, 15))\n",
    "ax1, ax2 = fig.subplots(2, 1, sharex=True)\n",
    "ax1.grid(True)\n",
    "ax1.plot(t, x, label=\"$x(t)$\")\n",
    "ax1.plot(t, y, label=\"$y(t)$\")\n",
    "ax1.legend()\n",
    "ax2.grid(True)\n",
    "ax2.plot(t, theta, label=r\"$\\theta(t)$\", color=\"C2\")\n",
    "ax2.legend()\n",
    "xlabel(\"time\")"
   ]
  },
  {
   "cell_type": "markdown",
   "metadata": {},
   "source": [
    "🧩 Use the simulation results to display the robot location every 0.5 seconds."
   ]
  },
  {
   "cell_type": "code",
   "execution_count": null,
   "metadata": {
    "scrolled": true
   },
   "outputs": [],
   "source": [
    "t = linspace(0.0, 4.0, 4*2+1)\n",
    "sol_t = r[\"sol\"](t)\n",
    "draw_arena(-1, 7, -1, 5)\n",
    "for x, y, theta in sol_t.T:\n",
    "    draw_wheelchair(x, y, theta)"
   ]
  },
  {
   "cell_type": "markdown",
   "metadata": {},
   "source": [
    "## Analysis of the system at rest"
   ]
  },
  {
   "cell_type": "markdown",
   "metadata": {},
   "source": [
    "### Equilibrium"
   ]
  },
  {
   "cell_type": "markdown",
   "metadata": {
    "tags": []
   },
   "source": [
    "##### 🧩 Show that for a suitable (constant) choice $\\omega_e \\in \\mathbb{R}^2$ of the vector input $\\omega$, the state $X_e = (x_e, y_e, \\theta_e) = (0,0,0)$ is an equilibrium of the wheelchair kinematic model."
   ]
  },
  {
   "cell_type": "markdown",
   "metadata": {},
   "source": [
    "**Answer:**\n",
    "Soit $ \\omega_e = (\\omega_r, \\omega_l)$ constante, donc :\n",
    "$ \\\\ x = R_w  \\frac{\\omega_l + \\omega_r}{2} \\cos{\\theta t} \\\\\n",
    "y = R_w  \\frac{\\omega_l + \\omega_r}{2} \\sin{\\theta t} \\\\\n",
    "\\theta = R_w  \\frac{\\omega_r - \\omega_l}{L} t \\\\ $\n",
    "\n",
    "\n",
    "pour $X_e = (x_e, y_e, \\theta_e) = (0,0,0)$ et $ t = t_e $ :\n",
    "$ \\\\ \\omega_r + \\omega_l = 0 $ et $ \\omega_r - \\omega_l = 0 $\n",
    "\n",
    "$\\\\ \\Rightarrow \\omega_r = \\omega_l = 0 $\n",
    "\n",
    "Donc : $ (\\dot{x}, \\dot{y} , \\dot{\\theta}) = (0,0,0) $\n",
    "\n",
    "Donc : $ X_e = (x_e, y_e, \\theta_e) = (0,0,0) $ est un équilibre"
   ]
  },
  {
   "cell_type": "markdown",
   "metadata": {
    "tags": []
   },
   "source": [
    "##### 🧩 Show that for any other $\\omega_e$, the system has no equilibrium."
   ]
  },
  {
   "cell_type": "markdown",
   "metadata": {},
   "source": [
    "**Answer:** \n",
    "\n",
    "On a équilibre ssi : $ (\\dot{x}, \\dot{y} , \\dot{\\theta}) = (0,0,0) $\n",
    "\n",
    "$ \\Leftrightarrow \\left\\{\n",
    "\\begin{array}{l}\n",
    "\\cos \\theta = 0 \\text{ ou } \\omega_l + \\omega_r = 0 \\\\\n",
    "\\sin \\theta = 0 \\text{ ou } \\omega_l + \\omega_r = 0 \\\\\n",
    "\\ \\omega_l = \\omega_r \n",
    "\\end{array}\n",
    "\\right.\n",
    "$\n",
    "\n",
    "Si  $\\omega_{e}\\neq (0,0)$, on a deux cas :\n",
    "- si $ \\exists a \\neq 0 $ tel que : $ \\omega_{e}=(a,a)$ est un équilibre  alors il vérifie :\n",
    "$\\cos(\\theta)=\\sin(\\theta)=0$ ce qui est absurde puisque  $\\cos^2(\\theta)+\\sin^2(\\theta)=1$\n",
    "- sinon : $\\dot{\\theta} \\neq 0~,\\forall t$\n",
    "\n",
    "Donc il n'y a pas d'équilibre pour $\\omega_{e}\\neq (0,0)$"
   ]
  },
  {
   "cell_type": "markdown",
   "metadata": {
    "tags": []
   },
   "source": [
    "##### 🧩 Conversely, if $\\omega = \\omega_e$, what are the other equilibria of the system?"
   ]
  },
  {
   "cell_type": "markdown",
   "metadata": {},
   "source": [
    "**Answer:**\n",
    "\n",
    "Si $\\omega = \\omega_{e} $ :\n",
    "\n",
    "$  (\\dot{x}, \\dot{y} , \\dot{\\theta}) = (0,0,0) $\n",
    "\n",
    "$ \\Rightarrow\n",
    "\\left\\{\n",
    "\\begin{array}{l}\n",
    " x = cte \\\\\n",
    " y = cte \\\\\n",
    "\\theta = cte \n",
    "\\end{array}\n",
    "\\right.\n",
    "$\n",
    "\n",
    "donc : pour $\\omega_{e}=(0,0)$  $\\forall X=(x,y,\\theta) \\in \\mathbb{R}\\times \\mathbb{R} \\times\\mathbb{R}$ \n",
    "\n",
    "X est un équilibre"
   ]
  },
  {
   "cell_type": "markdown",
   "metadata": {},
   "source": [
    "### Linearized System Model\n",
    "\n",
    "\n",
    "Let $\\omega = \\omega_e$ and $X_e = (0,0,0)$. Let us introduce the the error variable $\\Delta X = (\\Delta x, \\Delta y, \\Delta \\theta) = X - X_e$ and $\\Delta \\omega = \\omega - \\omega_e$."
   ]
  },
  {
   "cell_type": "markdown",
   "metadata": {
    "tags": []
   },
   "source": [
    "##### 🧩 Compute the corresponding linearized dynamics and put it in standard form: compute the matrices $A$ and $B$ (remember that $\\omega = (\\omega_l,\\omega_r)$)."
   ]
  },
  {
   "cell_type": "markdown",
   "metadata": {},
   "source": [
    "**Answer:**\n",
    "\n",
    "Soit $ f(X,\\omega) = \\dot{X} = (\\dot{x}, \\dot{y} , \\dot{\\theta}) $\n",
    "avec : $ X = (x,y,\\theta)$ et $\\omega = (\\omega_l,\\omega_r) $\n",
    "\n",
    "$ \\dot{\\Delta X} = A \\Delta X + B \\Delta \\omega $  avec $ A = \\frac{\\partial f(X,\\omega}{\\partial X} $ \n",
    "et $ B = \\frac{\\partial f(X,\\omega}{\\partial \\omega } $\n",
    "\n",
    "Donc : \n",
    "$ A=\\begin{pmatrix}\n",
    "      0 & 0 & -\\frac{Rw}{2}*(\\omega_{el}+\\omega_{er})*\\sin(\\theta_{e})\\\\[0.3em]\n",
    "       0 & 0 & \\frac{Rw}{2}*(\\omega_{el}+\\omega_{er})*\\cos(\\theta_{e})  \\\\[0.3em]\n",
    "      0 & 0 & 0        \n",
    "     \\end{pmatrix}\n",
    "$\n",
    "\n",
    "On a $ X_e = (0,0,0)$ et $ w_e = (0,0) $\n",
    "Donc : $ A =\\begin{pmatrix}\n",
    "      0 & 0 & 0\\\\[0.3em]\n",
    "       0 & 0 & 0  \\\\[0.3em]\n",
    "      0 & 0 & 0        \n",
    "     \\end{pmatrix}$\n",
    "     \n",
    "et $ B=\\begin{pmatrix}\n",
    "     \\frac{Rw}{2}*\\cos(\\theta_{e})  & \\frac{Rw}{2}*\\cos(\\theta_{e})\\\\[0.3em]\n",
    "      \\frac{Rw}{2}*\\sin(\\theta_{e})  & \\frac{Rw}{2}*\\sin(\\theta_{e})  \\\\[0.3em]\n",
    "      -\\frac{Rw}{L} & \\frac{Rw}{L}     \n",
    "     \\end{pmatrix}=\\begin{pmatrix}\n",
    "     \\frac{Rw}{2}  & \\frac{Rw}{2}\\\\[0.3em]\n",
    "      0  & 0  \\\\[0.3em]\n",
    "      -\\frac{Rw}{L} & \\frac{Rw}{L}     \n",
    "     \\end{pmatrix}\n",
    "     $"
   ]
  },
  {
   "cell_type": "markdown",
   "metadata": {
    "tags": []
   },
   "source": [
    "### Stability of the linearized system"
   ]
  },
  {
   "cell_type": "markdown",
   "metadata": {
    "tags": []
   },
   "source": [
    "##### 🧩 Is the linearized system asymptotically stable around $(0,0,0)$ when $\\Delta \\omega = (0,0)$ ?"
   ]
  },
  {
   "cell_type": "markdown",
   "metadata": {},
   "source": [
    "**Answer:** \n",
    "La matrice A a une seule valeur propre 0 de multiplicité 3 \n",
    "donc on n'a pas VP(A) < 0\n",
    "donc le sytème n'est pas asymptotiquement stable autour de $(0,0,0)$ lorsque $\\Delta \\omega = (0,0)$"
   ]
  },
  {
   "cell_type": "markdown",
   "metadata": {
    "tags": []
   },
   "source": [
    "##### 🧩 Is the original system asymptotically stable ? Or even (locally) attractive ? "
   ]
  },
  {
   "cell_type": "markdown",
   "metadata": {},
   "source": [
    "🔓 **Answer:**\n",
    "\n",
    "$ \\omega = (0,0) $\n",
    "\n",
    "$ ||X(t)|| $ n'est pas borné autour de $X_e$ donc le système n'est pas asymptotiquement stable.\n",
    "\n",
    "Il n'existe aucun $ X_1 = (x_1,y_1,\\theta_1) \\neq (0,0,0) $ tel que :\n",
    "$ \n",
    "\\left\\{\n",
    "\\begin{array}{l}\n",
    " \\lim_{t \\to \\infty} x(t) \\rightarrow x_1 \\\\\n",
    " \\lim_{t \\to \\infty} y(t) \\rightarrow y_1 \\\\\n",
    " \\lim_{t \\to \\infty} \\theta(t) \\rightarrow \\theta_1 \\\\\n",
    "\\end{array}\n",
    "\\right.\n",
    "$\n",
    "\n",
    "Donc le système n'est pas localement attractive."
   ]
  },
  {
   "cell_type": "markdown",
   "metadata": {
    "tags": []
   },
   "source": [
    "### Controllability of the linearized system"
   ]
  },
  {
   "cell_type": "markdown",
   "metadata": {
    "tags": []
   },
   "source": [
    "In this section, we consider only the linearized system defined by the matrices $A$ and $B$ computed previously:\n",
    "\n",
    "$$\n",
    "\\frac{\\Delta X}{dt} = A \\Delta X + B\\Delta u\n",
    "$$"
   ]
  },
  {
   "cell_type": "markdown",
   "metadata": {
    "tags": []
   },
   "source": [
    "##### 🧩 Is there an admissible trajectory that start with the state $X_0=(-2,0,0)$ and ends at origin after some time?  "
   ]
  },
  {
   "cell_type": "markdown",
   "metadata": {},
   "source": [
    "**Answer:**\n",
    "\n",
    "$ X_r(t) = (  x_r(t),y_r(t), \\theta_r(t)  ) $\n",
    "\n",
    "$ X_0 = (-2,0,0)$  et $ X_f = (0,0,0) $\n",
    "on pose $ x_r(t) = \\alpha t + \\beta $ et $ u = (u_1,u_2) $\n",
    "\n",
    "donc $  x_r(t) = \\frac{2}{t_f} t - 2 $ avec $ y_r(t) = 0$  et $\\theta_r(t) =0$\n",
    "\n",
    "$\\frac{\\Delta X_r}{dt} = A \\Delta X_r + B\\Delta u $\n",
    "\n",
    "$ \\Rightarrow \n",
    "\\begin{pmatrix}\n",
    "\\frac{2}{t_f} \\\\ 0 \\\\ 0\n",
    "\\end{pmatrix} = \\begin{pmatrix}\n",
    "     \\frac{Rw}{2}  & \\frac{Rw}{2}\\\\[0.3em]\n",
    "      0  & 0  \\\\[0.3em]\n",
    "      -\\frac{Rw}{L} & \\frac{Rw}{L}     \n",
    "     \\end{pmatrix}  \\begin{pmatrix}\n",
    "     \\ \\omega_l \\\\ \\omega_r\n",
    "     \\end{pmatrix}\n",
    "$\n",
    "$ \\Rightarrow \n",
    "\\left\\{\n",
    "\\begin{array}{l}\n",
    " \\frac{Rw}{2} (\\omega_l + \\omega_r) = \\frac{2}{t_f} \\\\\n",
    " \\frac{Rw}{2} (\\omega_r - \\omega_l) = 0\n",
    "\\end{array}\n",
    "\\right. $\n",
    "$\\Rightarrow \\omega_l = \\omega_r =  \\frac{2}{t_f * Rw}\n",
    "$"
   ]
  },
  {
   "cell_type": "markdown",
   "metadata": {
    "tags": []
   },
   "source": [
    "##### 🧩 Is there an admissible trajectory that start with the state $X_0=(0,2,0)$ and ends at origin after some time?  "
   ]
  },
  {
   "cell_type": "markdown",
   "metadata": {},
   "source": [
    "**Answer:**\n",
    "$ X_0 = (0,2,0)$  et $ X_f = (0,0,0) $\n",
    "$X_r(t) = (  x_r(t),y_r(t), \\theta_r(t)  )$\n",
    "\n",
    "avec : $ x_r(t) = 0 $ et $ \\theta_r(t) = 0 $\n",
    "\n",
    "on pose $ y_r(t) = \\alpha t + \\beta $\n",
    "\n",
    "Puisque $ y_r'(t) = 0 $ alors $y_r(t)= y_r(0)= 2 $\n",
    "\n",
    "$\\frac{d\\Delta x}{dt} = A \\Delta X_r + B\\Delta \\omega $\n",
    "\n",
    "$ \\Rightarrow \n",
    "\\begin{pmatrix}\n",
    "0 \\\\ 0 \\\\ 0\n",
    "\\end{pmatrix} = \\begin{pmatrix}\n",
    "     \\frac{Rw}{2}  & \\frac{Rw}{2}\\\\[0.3em]\n",
    "      0  & 0  \\\\[0.3em]\n",
    "      -\\frac{Rw}{L} & \\frac{Rw}{L}     \n",
    "     \\end{pmatrix}  \\begin{pmatrix}\n",
    "     \\ \\omega_l \\\\ \\omega_r \n",
    "     \\end{pmatrix}\n",
    "$\n",
    "$\\Rightarrow \\omega_l = \\omega_r =  0\n",
    "$\n",
    "\n",
    "Donc il n'y a pas de trajectoire admissible"
   ]
  },
  {
   "cell_type": "markdown",
   "metadata": {
    "tags": []
   },
   "source": [
    "##### 🧩 Is the linearized system controllable?"
   ]
  },
  {
   "cell_type": "markdown",
   "metadata": {},
   "source": [
    "**Answer:** Le systeme n'est pas controllable, car le rang de la matrice de kalman est: 2 < 3 "
   ]
  },
  {
   "cell_type": "code",
   "execution_count": null,
   "metadata": {},
   "outputs": [],
   "source": [
    "#Justification\n",
    "import numpy as np\n",
    "n = 3 \n",
    "A = np.zeros((n, n))\n",
    "B = [[Rw/2, Rw/2],[0,0],[-Rw/L, Rw/L]]\n",
    "def kalman(A,B):\n",
    "    n=len(B)\n",
    "    m=len(B[0])\n",
    "    S=np.zeros((n,n*m))\n",
    "    S[:,0:m]=B\n",
    "    for i in range(1,n):\n",
    "        P=S[:,(i-1)*m:(i)*m]\n",
    "        S[:,i*m:(i+1)*m]=A@P\n",
    "    return matrix_rank(S)\n",
    "\n",
    "kalman(A,B)"
   ]
  },
  {
   "cell_type": "markdown",
   "metadata": {
    "tags": []
   },
   "source": [
    "## Control on a straight line\n",
    "\n",
    "### Admissible trajectories"
   ]
  },
  {
   "cell_type": "markdown",
   "metadata": {},
   "source": [
    "Let $x_R(t) = v t$ and $y_R(t) = 0$ where $v \\in \\mathbb{R}$ and $v \\neq 0$. "
   ]
  },
  {
   "cell_type": "markdown",
   "metadata": {
    "tags": []
   },
   "source": [
    "##### 🧩 Determine the set of trajectories $X_R(t) = (x_R(t), y_R(t), \\theta_R(t))$ which are admissible and compute the corresponding reference control $\\omega_{R}(t)$."
   ]
  },
  {
   "cell_type": "markdown",
   "metadata": {},
   "source": [
    "**Answer:** \n",
    "\n",
    "$ \\frac{d\\Delta X_r}{dt} = A \\Delta X_r + B \\Delta \\omega  $\n",
    "\n",
    "$ X_r = ( vt, 0,\\theta_r(t) ) $\n",
    "\n",
    "D'après $X_r$, le robot se déplace uniquement selon (Ox)\n",
    "\n",
    "Donc $\\theta_r$ peut prendre 2 valeurs possibles  : $\\theta_r = 0$ ou $\\theta_r = \\pi $\n",
    "\n",
    "Donc $X_r(t)=(x_r(t),y_r(t),\\theta_r(t)=0)$\n",
    "ou  $X_r(t)=(x_r(t),y_r(t),\\theta_r(t)=\\pi)$"
   ]
  },
  {
   "cell_type": "markdown",
   "metadata": {},
   "source": [
    "### Linearized system"
   ]
  },
  {
   "cell_type": "markdown",
   "metadata": {},
   "source": [
    "Let $\\Delta X(t) = X(t) - X_R(t)$ and $\\Delta \\omega(t) = \\omega(t) - \\omega_R(t)$."
   ]
  },
  {
   "cell_type": "markdown",
   "metadata": {
    "tags": []
   },
   "source": [
    "##### 🧩 Compute the linearized dynamics of the system for the class of trajectory \"moving forward\"."
   ]
  },
  {
   "cell_type": "markdown",
   "metadata": {},
   "source": [
    "**Answer:**\n",
    "$ \\dot{\\Delta X} = A \\Delta X + B \\Delta \\omega $  avec $ A = \\frac{\\partial f(X,\\omega)}{\\partial X} $ \n",
    "et $ B = \\frac{\\partial f(X,\\omega)}{\\partial \\omega } $\n",
    "\n",
    "Donc : \n",
    "$ A=\\begin{pmatrix}\n",
    "      0 & 0 & -\\frac{Rw}{2}*(\\omega_{rr}+\\omega_{lr})*\\sin(\\theta_{e})\\\\[0.3em]\n",
    "       0 & 0 & \\frac{Rw}{2}*(\\omega_{rr}+\\omega_{lr})*\\cos(\\theta_{e})  \\\\[0.3em]\n",
    "      0 & 0 & 0        \n",
    "     \\end{pmatrix}\n",
    "$\n",
    "\n",
    "et : $ B=\\begin{pmatrix}\n",
    "     \\frac{Rw}{2}*\\cos(\\theta_{r})  & \\frac{Rw}{2}*\\cos(\\theta_{r})\\\\[0.3em]\n",
    "      \\frac{Rw}{2}*\\sin(\\theta_{r})  & \\frac{Rw}{2}*\\sin(\\theta_{r})  \\\\[0.3em]\n",
    "      -\\frac{Rw}{L} & \\frac{Rw}{L}     \n",
    "     \\end{pmatrix}\n",
    "     $"
   ]
  },
  {
   "cell_type": "markdown",
   "metadata": {
    "tags": []
   },
   "source": [
    "##### 🧩 Is the system asymptotically stable, with $\\Delta\\omega(t)=0$?"
   ]
  },
  {
   "cell_type": "markdown",
   "metadata": {},
   "source": [
    "**Answer:**\n",
    "\n",
    "La seule valeur propre de la matrice A est 0\n",
    "donc le sytème n'est pas asymptotiquement stable lorsque $\\Delta \\omega = (0,0)$"
   ]
  },
  {
   "cell_type": "markdown",
   "metadata": {
    "tags": []
   },
   "source": [
    "##### 🧩 Is the system attractive, with $\\Delta\\omega(t)=0$?"
   ]
  },
  {
   "cell_type": "markdown",
   "metadata": {},
   "source": [
    "**Answer:**\n",
    "On a $X(t)=(\\theta t +c_1, c_2, c_3)$\n",
    "lorsque c_1, c_2, c_3 sont des constantes, le système n'est pas attractif "
   ]
  },
  {
   "cell_type": "markdown",
   "metadata": {
    "tags": []
   },
   "source": [
    "##### 🧩 Show that the linearized system is controllable."
   ]
  },
  {
   "cell_type": "code",
   "execution_count": null,
   "metadata": {},
   "outputs": [],
   "source": [
    "#Justification\n",
    "import numpy as np\n",
    "n = 3\n",
    "#v>0 donc on peut prendre une valeur quelconque \n",
    "v=4\n",
    "A = [[0, 0, 0],[0, 0, v],[0, 0, 0]]\n",
    "B = [[Rw/2, Rw/2],[0,0],[-Rw/L, Rw/L]]\n",
    "def kalman(A,B):\n",
    "    n=len(B)\n",
    "    m=len(B[0])\n",
    "    S=np.zeros((n,n*m))\n",
    "    S[:,0:m]=B\n",
    "    for i in range(1,n):\n",
    "        C=S[:,(i-1)*m:(i)*m]\n",
    "        S[:,i*m:(i+1)*m]=A@C\n",
    "    return matrix_rank(S)\n",
    "\n",
    "kalman(A,B)"
   ]
  },
  {
   "cell_type": "markdown",
   "metadata": {},
   "source": [
    "**Answer:**\n",
    "le rang de la matrice de kalman est 3,dons le systeme est controllable"
   ]
  },
  {
   "cell_type": "markdown",
   "metadata": {},
   "source": [
    "### Linearized system implementation"
   ]
  },
  {
   "cell_type": "markdown",
   "metadata": {},
   "source": [
    "In the sequel, we will use $v=4.8 \\mbox{ km/h}$."
   ]
  },
  {
   "cell_type": "markdown",
   "metadata": {},
   "source": [
    "##### 🧩 Implement and print the matrices $A$ and $B$"
   ]
  },
  {
   "cell_type": "code",
   "execution_count": null,
   "metadata": {},
   "outputs": [],
   "source": [
    "#theta = 0\n",
    "v=4.8\n",
    "A = array([[0, 0, 0],[0, 0, v],[0, 0, 0]])\n",
    "B = array([[Rw/2, Rw/2],[0,0],[-Rw/L, Rw/L]])"
   ]
  },
  {
   "cell_type": "markdown",
   "metadata": {},
   "source": [
    "The linear model has to be fed with some $\\Delta\\omega$ input. Like for the nonlinear system, we define a function $\\Delta\\omega(t,\\Delta_X)$ that computes the input of the linearized system. For example, if we do not want any correction to the reference input, we set:"
   ]
  },
  {
   "cell_type": "code",
   "execution_count": null,
   "metadata": {},
   "outputs": [],
   "source": [
    "def deltaOmega(t, deltaX):\n",
    "    if t <= 1 or t>= 3 : \n",
    "        omega_l = (1 - L/4) * pi / Rw\n",
    "        omega_r = (1 + L/4) * pi / Rw\n",
    "    else : \n",
    "        omega_l = (1 + L/4) * pi / Rw\n",
    "        omega_r = (1 - L/4) * pi / Rw\n",
    "    return array([omega_l-v/Rw, omega_r-v/Rw])"
   ]
  },
  {
   "cell_type": "markdown",
   "metadata": {},
   "source": [
    "##### 🧩 Using this function `deltaOmega`, define a function `lin_fun` that computes $d{\\Delta X}/dt$ given the arguments `t` and `deltaX`$."
   ]
  },
  {
   "cell_type": "code",
   "execution_count": null,
   "metadata": {},
   "outputs": [],
   "source": [
    "def lin_fun(t, deltaX):\n",
    "    detlaOmega_l, detlaOmega_r = deltaOmega(t, deltaX)\n",
    "    deltax, deltay, deltatheta = deltaX\n",
    "    return array([Rw*(detlaOmega_l+detlaOmega_r)/2, v*deltatheta, Rw*(detlaOmega_r-detlaOmega_l)/L])"
   ]
  },
  {
   "cell_type": "markdown",
   "metadata": {},
   "source": [
    "### Controller Design on the linearized system"
   ]
  },
  {
   "cell_type": "markdown",
   "metadata": {},
   "source": [
    "##### 🧩 Implement a process that computes a gain matrix $K$ that places the poles of the linearized system at some arbitrary location. \n",
    "\n",
    "For this question, we will chose 3 real poles close to -0.5.\n",
    "\n",
    "Then, print the poles of the closed-loop system\n",
    "\n",
    "$$\n",
    "\\frac{d\\Delta X}{dt}= A \\Delta X + B\\Delta\\omega\n",
    "\\; \\mbox{ with } \\;\n",
    "\\Delta\\omega = -K \\Delta X.\n",
    "$$"
   ]
  },
  {
   "cell_type": "code",
   "execution_count": null,
   "metadata": {},
   "outputs": [],
   "source": [
    "Q = array([[1, 0, 0], [0, 1, 0],[0, 0, 1]])\n",
    "R = array([[1,0],[0,1]])\n",
    "Pi = solve_continuous_are(A, B, Q, R)\n",
    "K = inv(R) @ B.T @ Pi\n",
    "eigenvalues, _ = eig(A - B @ K)\n",
    "assert all([real(s) < 0 for s in eigenvalues])\n",
    "figure()\n",
    "x = [real(s) for s in eigenvalues]\n",
    "y = [imag(s) for s in eigenvalues]\n",
    "plot(x, y, \"kx\")\n",
    "grid(True)\n",
    "title(\"Eigenvalues\")\n",
    "axis(\"square\")\n",
    "axis([-5, 5, -5, 5])"
   ]
  },
  {
   "cell_type": "markdown",
   "metadata": {},
   "source": [
    "##### 🧩 Simulate the linearized system during 20s, with the initial condition $\\Delta X(0) = (0,2,0)$."
   ]
  },
  {
   "cell_type": "code",
   "execution_count": null,
   "metadata": {},
   "outputs": [],
   "source": [
    "r = solve_ivp(fun=lin_fun, t_span =(0.0, 20.0), y0=[0, 2, 0], dense_output=True)"
   ]
  },
  {
   "cell_type": "markdown",
   "metadata": {},
   "source": [
    "🧩 Plot the values of $\\Delta x(t)$, $\\Delta y(t)$ and $\\Delta\\theta(t)$ (**plot $\\Delta\\theta(t)$ in degrees**)"
   ]
  },
  {
   "cell_type": "code",
   "execution_count": 79,
   "metadata": {},
   "outputs": [
    {
     "data": {
      "text/plain": [
       "Text(0.5, 0, 'time')"
      ]
     },
     "execution_count": 79,
     "metadata": {},
     "output_type": "execute_result"
    },
    {
     "data": {
      "image/png": "[encoded data removed]",
      "text/plain": [
       "<Figure size 1080x1080 with 2 Axes>"
      ]
     },
     "metadata": {
      "needs_background": "light"
     },
     "output_type": "display_data"
    }
   ],
   "source": [
    "t = linspace(0.0, 20.0, 1000)\n",
    "deltax, deltay, deltatheta = r[\"sol\"](t)\n",
    "fig=figure(figsize=(15, 15))\n",
    "ax1, ax2 = fig.subplots(2, 1, sharex=True)\n",
    "ax1.grid(True)\n",
    "ax1.plot(t, deltax, label=\"$deltax(t)$\")\n",
    "ax1.plot(t, deltay, label=\"$deltay(t)$\")\n",
    "ax1.legend()\n",
    "ax2.grid(True)\n",
    "ax2.plot(t, deltatheta, label=r\"$deltatheta(t)$\", color=\"C2\")\n",
    "ax2.legend()\n",
    "xlabel(\"time\")"
   ]
  },
  {
   "cell_type": "markdown",
   "metadata": {},
   "source": [
    "##### 🧩 Why is it important to check that $\\Delta\\theta(t)$ stays small ?"
   ]
  },
  {
   "cell_type": "markdown",
   "metadata": {},
   "source": [
    "**Answer:** \n",
    "Pour pouvoir revenir à la position d'équilibre et rester stable "
   ]
  },
  {
   "cell_type": "markdown",
   "metadata": {},
   "source": [
    "##### 🧩 Compute the corresponding values of $\\Delta\\omega_l,\\Delta\\omega_r$ and store them in the Python variables `dOmega_l`, `dOmega_r`"
   ]
  },
  {
   "cell_type": "code",
   "execution_count": 80,
   "metadata": {},
   "outputs": [],
   "source": [
    "dOmega_l, dOmega_r = -K @ r[\"sol\"](t)"
   ]
  },
  {
   "cell_type": "markdown",
   "metadata": {},
   "source": [
    "##### 🧩 Compute $\\omega_l,\\omega_r$ and plot the translation speed of each wheels in km/h"
   ]
  },
  {
   "cell_type": "code",
   "execution_count": 8,
   "metadata": {},
   "outputs": [],
   "source": [
    "omega_l = dOmega_l + v/Rw\n",
    "omega_r = dOmega_r + v/Rw\n",
    "t = linspace(0.0, 20.0, 1000)\n",
    "fig=figure(figsize=(15, 15))\n",
    "ax1, ax2 = fig.subplots(2, 1, sharex=True)\n",
    "ax1.grid(True)\n",
    "ax1.plot(t,omega_l*0.001*3600 , label=\"$deltax(t)$\")\n",
    "ax1.plot(t, deltay, label=\"$deltay(t)$\")\n",
    "ax1.legend()\n",
    "ax2.grid(True)\n",
    "ax2.plot(t, deltatheta, label=r\"$deltatheta(t)$\", color=\"C2\")\n",
    "ax2.legend()\n",
    "xlabel(\"time\")\n"
   ]
  },
  {
   "cell_type": "markdown",
   "metadata": {},
   "source": [
    "##### 🧩 Are these control values consistent with what the robot should do to cancel the error?"
   ]
  },
  {
   "cell_type": "markdown",
   "metadata": {},
   "source": [
    "**Answer:**"
   ]
  },
  {
   "cell_type": "markdown",
   "metadata": {},
   "source": [
    "###  Controller Tuning\n",
    "\n"
   ]
  },
  {
   "cell_type": "markdown",
   "metadata": {},
   "source": [
    "##### 🧩 Tune the poles (and recompute the gain matrix) so that the actual location $(x, y)$ is within 10 cm of the desired location within 20 sec and the linear velocity of each wheel never exceeds $5$ km/h. Plot the values of $\\Delta x$ (in m), $\\Delta y$ (in m), $\\Delta \\theta$ (in degrees), and the speed of each wheel (in km/h)"
   ]
  },
  {
   "cell_type": "code",
   "execution_count": 9,
   "metadata": {},
   "outputs": [],
   "source": [
    "pass"
   ]
  },
  {
   "cell_type": "markdown",
   "metadata": {},
   "source": [
    "##### 🧩 Simulate the initial, nonlinear wheelchair model when the control law computed in the section \"Controller Tuning\" is applied. Check that the constraint given for the control law design still hold."
   ]
  },
  {
   "cell_type": "code",
   "execution_count": 10,
   "metadata": {},
   "outputs": [],
   "source": [
    "pass"
   ]
  },
  {
   "cell_type": "markdown",
   "metadata": {},
   "source": [
    "##### 🧩 Display this trajectory using a snapshot of the wheelchair in the plane every second."
   ]
  },
  {
   "cell_type": "code",
   "execution_count": null,
   "metadata": {},
   "outputs": [],
   "source": [
    "pass"
   ]
  }
 ],
 "metadata": {
  "kernelspec": {
   "display_name": "Python 3",
   "language": "python",
   "name": "python3"
  },
  "language_info": {
   "codemirror_mode": {
    "name": "ipython",
    "version": 3
   },
   "file_extension": ".py",
   "mimetype": "text/x-python",
   "name": "python",
   "nbconvert_exporter": "python",
   "pygments_lexer": "ipython3",
   "version": "3.7.4"
  }
 },
 "nbformat": 4,
 "nbformat_minor": 4
}
